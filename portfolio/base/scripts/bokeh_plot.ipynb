{
 "cells": [
  {
   "cell_type": "code",
   "execution_count": null,
   "metadata": {},
   "outputs": [
    {
     "data": {
      "text/html": [
       "\n",
       "    <div class=\"bk-root\">\n",
       "        <a href=\"http://bokeh.pydata.org\" target=\"_blank\" class=\"bk-logo bk-logo-small bk-logo-notebook\"></a>\n",
       "        <span id=\"ad67aea1-3be2-4a95-b9c1-9a6cd575f9ef\">Loading BokehJS ...</span>\n",
       "    </div>"
      ]
     },
     "metadata": {},
     "output_type": "execute_result"
    },
    {
     "data": {},
     "metadata": {},
     "output_type": "display_data"
    }
   ],
   "source": [
    "import setup\n",
    "\n",
    "from base.models import *\n",
    "from urllib.parse import urlparse\n",
    "from itertools import groupby\n",
    "from bokeh.charts import Donut, show\n",
    "from bokeh.io import output_notebook\n",
    "import pandas as pd\n",
    "\n",
    "output_notebook()"
   ]
  },
  {
   "cell_type": "code",
   "execution_count": 201,
   "metadata": {
    "collapsed": true
   },
   "outputs": [],
   "source": [
    "def get_domain(url_object):\n",
    "    return urlparse(url_object).netloc"
   ]
  },
  {
   "cell_type": "code",
   "execution_count": 202,
   "metadata": {},
   "outputs": [],
   "source": [
    "urls = Urls.objects.all()\n",
    "\n",
    "df = pd.DataFrame(list(urls.values()))\n",
    "df = df.loc[:, ['url', 'visit_count', 'typed_count']]\n",
    "df['url'] = df['url'].map(lambda x: get_domain(x))\n",
    "df = df.groupby(by='url', as_index=False).sum()\n",
    "df = df.sort_values(by=['visit_count', 'typed_count'], ascending=False).reset_index(drop=True)"
   ]
  },
  {
   "cell_type": "code",
   "execution_count": 203,
   "metadata": {},
   "outputs": [],
   "source": [
    "limit = 10\n",
    "\n",
    "top_results = df.loc[:limit].copy()\n",
    "top_results.loc[limit, 'url'] = 'others'\n",
    "top_results.loc[limit, ['visit_count', 'typed_count']] = \\\n",
    "    df.loc[limit:, ['visit_count', 'typed_count']].agg('sum')"
   ]
  },
  {
   "cell_type": "code",
   "execution_count": 207,
   "metadata": {},
   "outputs": [
    {
     "data": {
      "text/html": [
       "\n",
       "\n",
       "    <div class=\"bk-root\">\n",
       "        <div class=\"bk-plotdiv\" id=\"1de4542f-68e6-405d-b886-419f7a70c403\"></div>\n",
       "    </div>\n",
       "<script type=\"text/javascript\">\n",
       "  \n",
       "  (function(global) {\n",
       "    function now() {\n",
       "      return new Date();\n",
       "    }\n",
       "  \n",
       "    var force = false;\n",
       "  \n",
       "    if (typeof (window._bokeh_onload_callbacks) === \"undefined\" || force === true) {\n",
       "      window._bokeh_onload_callbacks = [];\n",
       "      window._bokeh_is_loading = undefined;\n",
       "    }\n",
       "  \n",
       "  \n",
       "    \n",
       "    if (typeof (window._bokeh_timeout) === \"undefined\" || force === true) {\n",
       "      window._bokeh_timeout = Date.now() + 0;\n",
       "      window._bokeh_failed_load = false;\n",
       "    }\n",
       "  \n",
       "    var NB_LOAD_WARNING = {'data': {'text/html':\n",
       "       \"<div style='background-color: #fdd'>\\n\"+\n",
       "       \"<p>\\n\"+\n",
       "       \"BokehJS does not appear to have successfully loaded. If loading BokehJS from CDN, this \\n\"+\n",
       "       \"may be due to a slow or bad network connection. Possible fixes:\\n\"+\n",
       "       \"</p>\\n\"+\n",
       "       \"<ul>\\n\"+\n",
       "       \"<li>re-rerun `output_notebook()` to attempt to load from CDN again, or</li>\\n\"+\n",
       "       \"<li>use INLINE resources instead, as so:</li>\\n\"+\n",
       "       \"</ul>\\n\"+\n",
       "       \"<code>\\n\"+\n",
       "       \"from bokeh.resources import INLINE\\n\"+\n",
       "       \"output_notebook(resources=INLINE)\\n\"+\n",
       "       \"</code>\\n\"+\n",
       "       \"</div>\"}};\n",
       "  \n",
       "    function display_loaded() {\n",
       "      if (window.Bokeh !== undefined) {\n",
       "        var el = document.getElementById(\"1de4542f-68e6-405d-b886-419f7a70c403\");\n",
       "        el.textContent = \"BokehJS \" + Bokeh.version + \" successfully loaded.\";\n",
       "      } else if (Date.now() < window._bokeh_timeout) {\n",
       "        setTimeout(display_loaded, 100)\n",
       "      }\n",
       "    }\n",
       "  \n",
       "    function run_callbacks() {\n",
       "      window._bokeh_onload_callbacks.forEach(function(callback) { callback() });\n",
       "      delete window._bokeh_onload_callbacks\n",
       "      console.info(\"Bokeh: all callbacks have finished\");\n",
       "    }\n",
       "  \n",
       "    function load_libs(js_urls, callback) {\n",
       "      window._bokeh_onload_callbacks.push(callback);\n",
       "      if (window._bokeh_is_loading > 0) {\n",
       "        console.log(\"Bokeh: BokehJS is being loaded, scheduling callback at\", now());\n",
       "        return null;\n",
       "      }\n",
       "      if (js_urls == null || js_urls.length === 0) {\n",
       "        run_callbacks();\n",
       "        return null;\n",
       "      }\n",
       "      console.log(\"Bokeh: BokehJS not loaded, scheduling load and callback at\", now());\n",
       "      window._bokeh_is_loading = js_urls.length;\n",
       "      for (var i = 0; i < js_urls.length; i++) {\n",
       "        var url = js_urls[i];\n",
       "        var s = document.createElement('script');\n",
       "        s.src = url;\n",
       "        s.async = false;\n",
       "        s.onreadystatechange = s.onload = function() {\n",
       "          window._bokeh_is_loading--;\n",
       "          if (window._bokeh_is_loading === 0) {\n",
       "            console.log(\"Bokeh: all BokehJS libraries loaded\");\n",
       "            run_callbacks()\n",
       "          }\n",
       "        };\n",
       "        s.onerror = function() {\n",
       "          console.warn(\"failed to load library \" + url);\n",
       "        };\n",
       "        console.log(\"Bokeh: injecting script tag for BokehJS library: \", url);\n",
       "        document.getElementsByTagName(\"head\")[0].appendChild(s);\n",
       "      }\n",
       "    };var element = document.getElementById(\"1de4542f-68e6-405d-b886-419f7a70c403\");\n",
       "    if (element == null) {\n",
       "      console.log(\"Bokeh: ERROR: autoload.js configured with elementid '1de4542f-68e6-405d-b886-419f7a70c403' but no matching script tag was found. \")\n",
       "      return false;\n",
       "    }\n",
       "  \n",
       "    var js_urls = [];\n",
       "  \n",
       "    var inline_js = [\n",
       "      function(Bokeh) {\n",
       "        (function() {\n",
       "          var fn = function() {\n",
       "            var docs_json = {\"b7fb417e-212d-4986-ad8a-61bcbf60ffd9\":{\"roots\":{\"references\":[{\"attributes\":{\"callback\":null,\"end\":1.6500000000000001,\"start\":-1.6500000000000001},\"id\":\"0feddf2c-0089-451b-80b9-6c42de5331fd\",\"type\":\"Range1d\"},{\"attributes\":{\"overlay\":{\"id\":\"5fec10e6-5cf4-4ddb-a639-9c40e29660ea\",\"type\":\"BoxAnnotation\"},\"plot\":{\"id\":\"883a7167-1889-4d90-ac19-1e4a10152ee8\",\"subtype\":\"Chart\",\"type\":\"Plot\"}},\"id\":\"799d0f14-12a7-484b-8318-52ca9729f72f\",\"type\":\"BoxZoomTool\"},{\"attributes\":{\"angle\":{\"field\":\"text_angle\",\"units\":\"rad\"},\"text_align\":\"center\",\"text_baseline\":\"middle\",\"text_font_size\":{\"value\":\"10pt\"},\"x\":{\"field\":\"x\"},\"y\":{\"field\":\"y\"}},\"id\":\"fbf56090-6bf8-4610-9ef9-2916a84f7c8b\",\"type\":\"Text\"},{\"attributes\":{},\"id\":\"4cd70190-91fd-4ef1-979d-a3cc6cb85992\",\"type\":\"ToolEvents\"},{\"attributes\":{\"data_source\":{\"id\":\"5f5c6cd5-37fe-4248-b6d7-de220e0ceae0\",\"type\":\"ColumnDataSource\"},\"glyph\":{\"id\":\"fbf56090-6bf8-4610-9ef9-2916a84f7c8b\",\"type\":\"Text\"},\"hover_glyph\":null,\"muted_glyph\":null},\"id\":\"2e4df2ce-9935-40ef-a5d3-4ab96e0076e5\",\"type\":\"GlyphRenderer\"},{\"attributes\":{\"plot\":null,\"text\":null},\"id\":\"994a8515-e5ab-408d-b0fb-b861119a753a\",\"type\":\"Title\"},{\"attributes\":{\"bottom_units\":\"screen\",\"fill_alpha\":{\"value\":0.5},\"fill_color\":{\"value\":\"lightgrey\"},\"left_units\":\"screen\",\"level\":\"overlay\",\"line_alpha\":{\"value\":1.0},\"line_color\":{\"value\":\"black\"},\"line_dash\":[4,4],\"line_width\":{\"value\":2},\"plot\":null,\"render_mode\":\"css\",\"right_units\":\"screen\",\"top_units\":\"screen\"},\"id\":\"5fec10e6-5cf4-4ddb-a639-9c40e29660ea\",\"type\":\"BoxAnnotation\"},{\"attributes\":{\"plot\":{\"id\":\"883a7167-1889-4d90-ac19-1e4a10152ee8\",\"subtype\":\"Chart\",\"type\":\"Plot\"}},\"id\":\"54bc6c7e-017d-422a-b582-491f1d414eed\",\"type\":\"SaveTool\"},{\"attributes\":{\"callback\":null,\"column_names\":[\"text\",\"x\",\"y\",\"text_angle\"],\"data\":{\"text\":[\"127.0.0.1:8000\",\"github.com\",\"kissanime.ru\",\"mail.google.com\",\"others\",\"stackoverflow.com\",\"twitter.com\",\"www.facebook.com\",\"www.google.com\",\"www.reddit.com\",\"www.youtube.com\"],\"text_angle\":{\"__ndarray__\":\"AAAAAAAAAAAAAAAAAAAAAAAAAAAAAAAAAAAAAAAAAAAAAAAAAAAAAAAAAAAAAAAAAAAAAAAAAAAAAAAAAAAAAAAAAAAAAAAAAAAAAAAAAAAAAAAAAAAAAA==\",\"dtype\":\"float64\",\"shape\":[11]},\"x\":[1.1165091488103753,1.0607051618123937,0.9684090571695558,0.8504569420928318,-0.6559184210640142,-0.9576040193698112,-0.8092024776024584,-0.5989773194517578,0.19677823094611532,0.9486652405698661,1.1077370759643397],\"y\":[0.13795767692568314,0.3748727246740468,0.5725459789326723,0.7364427945510158,0.9140000136263077,-0.5904401257424686,-0.7815474075461083,-0.9522873362501398,-1.1076566831946246,-0.6046976610956238,-0.19632516530993926]}},\"id\":\"5f5c6cd5-37fe-4248-b6d7-de220e0ceae0\",\"type\":\"ColumnDataSource\"},{\"attributes\":{},\"id\":\"32704ed8-29ba-437e-8ba6-e81d95043a5e\",\"type\":\"BasicTickFormatter\"},{\"attributes\":{\"callback\":null,\"plot\":{\"id\":\"883a7167-1889-4d90-ac19-1e4a10152ee8\",\"subtype\":\"Chart\",\"type\":\"Plot\"},\"tooltips\":[[\"Visit_Count\",\"@values\"]]},\"id\":\"bb417e70-d450-40d0-a98a-3765a2f3ad8f\",\"type\":\"HoverTool\"},{\"attributes\":{\"plot\":{\"id\":\"883a7167-1889-4d90-ac19-1e4a10152ee8\",\"subtype\":\"Chart\",\"type\":\"Plot\"}},\"id\":\"2076a9a1-37c5-4f84-a2db-b8ddfc1a0dff\",\"type\":\"ResetTool\"},{\"attributes\":{},\"id\":\"bfc24067-0803-48ff-9c05-5e362e3daf9d\",\"type\":\"BasicTicker\"},{\"attributes\":{\"axis_label\":null,\"formatter\":{\"id\":\"32704ed8-29ba-437e-8ba6-e81d95043a5e\",\"type\":\"BasicTickFormatter\"},\"plot\":{\"id\":\"883a7167-1889-4d90-ac19-1e4a10152ee8\",\"subtype\":\"Chart\",\"type\":\"Plot\"},\"ticker\":{\"id\":\"d7fd4e44-7a72-4f1f-9501-576cc7104e43\",\"type\":\"BasicTicker\"},\"visible\":false},\"id\":\"ee3b87e9-215a-4aa3-bc40-76a95a855202\",\"type\":\"LinearAxis\"},{\"attributes\":{},\"id\":\"d7fd4e44-7a72-4f1f-9501-576cc7104e43\",\"type\":\"BasicTicker\"},{\"attributes\":{\"callback\":null,\"end\":1.6500000000000001,\"start\":-1.6500000000000001},\"id\":\"401c888e-b6bb-435e-8747-c12d2c779406\",\"type\":\"Range1d\"},{\"attributes\":{\"axis_label\":null,\"formatter\":{\"id\":\"0fbcb3c1-f22b-4d31-ad3b-5fe036a7544a\",\"type\":\"BasicTickFormatter\"},\"plot\":{\"id\":\"883a7167-1889-4d90-ac19-1e4a10152ee8\",\"subtype\":\"Chart\",\"type\":\"Plot\"},\"ticker\":{\"id\":\"bfc24067-0803-48ff-9c05-5e362e3daf9d\",\"type\":\"BasicTicker\"},\"visible\":false},\"id\":\"0a05e52b-4583-405e-ad43-ddfa083b6332\",\"type\":\"LinearAxis\"},{\"attributes\":{\"plot\":{\"id\":\"883a7167-1889-4d90-ac19-1e4a10152ee8\",\"subtype\":\"Chart\",\"type\":\"Plot\"}},\"id\":\"269ebb47-23bf-4247-becc-3e8040dd9758\",\"type\":\"PanTool\"},{\"attributes\":{},\"id\":\"0fbcb3c1-f22b-4d31-ad3b-5fe036a7544a\",\"type\":\"BasicTickFormatter\"},{\"attributes\":{\"plot\":{\"id\":\"883a7167-1889-4d90-ac19-1e4a10152ee8\",\"subtype\":\"Chart\",\"type\":\"Plot\"}},\"id\":\"1524788c-5fa7-4ea2-acf7-efb746cf0b24\",\"type\":\"WheelZoomTool\"},{\"attributes\":{\"below\":[{\"id\":\"0a05e52b-4583-405e-ad43-ddfa083b6332\",\"type\":\"LinearAxis\"}],\"css_classes\":null,\"left\":[{\"id\":\"ee3b87e9-215a-4aa3-bc40-76a95a855202\",\"type\":\"LinearAxis\"}],\"plot_height\":800,\"plot_width\":800,\"renderers\":[{\"id\":\"5fec10e6-5cf4-4ddb-a639-9c40e29660ea\",\"type\":\"BoxAnnotation\"},{\"id\":\"fdd0a82a-e203-4b84-abd0-59fc6862a68a\",\"type\":\"GlyphRenderer\"},{\"id\":\"2e4df2ce-9935-40ef-a5d3-4ab96e0076e5\",\"type\":\"GlyphRenderer\"},{\"id\":\"c4b0fc1c-ce79-49b6-af85-8cd5ce58dc39\",\"type\":\"Legend\"},{\"id\":\"0a05e52b-4583-405e-ad43-ddfa083b6332\",\"type\":\"LinearAxis\"},{\"id\":\"ee3b87e9-215a-4aa3-bc40-76a95a855202\",\"type\":\"LinearAxis\"}],\"title\":{\"id\":\"994a8515-e5ab-408d-b0fb-b861119a753a\",\"type\":\"Title\"},\"tool_events\":{\"id\":\"4cd70190-91fd-4ef1-979d-a3cc6cb85992\",\"type\":\"ToolEvents\"},\"toolbar\":{\"id\":\"7b994bb3-7e1b-44b6-8434-f9b8424b1fd5\",\"type\":\"Toolbar\"},\"x_mapper_type\":\"auto\",\"x_range\":{\"id\":\"0feddf2c-0089-451b-80b9-6c42de5331fd\",\"type\":\"Range1d\"},\"y_mapper_type\":\"auto\",\"y_range\":{\"id\":\"401c888e-b6bb-435e-8747-c12d2c779406\",\"type\":\"Range1d\"}},\"id\":\"883a7167-1889-4d90-ac19-1e4a10152ee8\",\"subtype\":\"Chart\",\"type\":\"Plot\"},{\"attributes\":{\"callback\":null,\"column_names\":[\"end\",\"level\",\"start\",\"values\",\"inners\",\"outers\",\"centers\",\"color\",\"url\"],\"data\":{\"centers\":{\"__ndarray__\":\"AAAAAAAA8j8AAAAAAADyPwAAAAAAAPI/AAAAAAAA8j8AAAAAAADyPwAAAAAAAPI/AAAAAAAA8j8AAAAAAADyPwAAAAAAAPI/AAAAAAAA8j8AAAAAAADyPw==\",\"dtype\":\"float64\",\"shape\":[11]},\"color\":[\"#f22c40\",\"#5ab738\",\"#407ee7\",\"#df5320\",\"#00ad9c\",\"#c33ff3\",\"#f22c40\",\"#5ab738\",\"#407ee7\",\"#df5320\",\"#00ad9c\"],\"end\":{\"__ndarray__\":\"huQkoeV4zz+z08c4Zb/bPw2yDWhkTOQ/xq60lXJg6T/IAzE+e78MQAsGv8ScWw5AjDKj/BEZEEBDE/c8BxwRQD1xHzwF/xVAawrDSr66F0AYLURU+yEZQA==\",\"dtype\":\"float64\",\"shape\":[11]},\"inners\":{\"__ndarray__\":\"AAAAAAAAAAAAAAAAAAAAAAAAAAAAAAAAAAAAAAAAAAAAAAAAAAAAAAAAAAAAAAAAAAAAAAAAAAAAAAAAAAAAAAAAAAAAAAAAAAAAAAAAAAAAAAAAAAAAAA==\",\"dtype\":\"float64\",\"shape\":[11]},\"level\":{\"__ndarray__\":\"AAAAAAAAAAAAAAAAAAAAAAAAAAAAAAAAAAAAAAAAAAAAAAAAAAAAAAAAAAAAAAAAAAAAAAAAAAAAAAAAAAAAAAAAAAAAAAAAAAAAAAAAAAAAAAAAAAAAAA==\",\"dtype\":\"float64\",\"shape\":[11]},\"outers\":{\"__ndarray__\":\"AAAAAAAA+D8AAAAAAAD4PwAAAAAAAPg/AAAAAAAA+D8AAAAAAAD4PwAAAAAAAPg/AAAAAAAA+D8AAAAAAAD4PwAAAAAAAPg/AAAAAAAA+D8AAAAAAAD4Pw==\",\"dtype\":\"float64\",\"shape\":[11]},\"start\":{\"__ndarray__\":\"AAAAAAAAAACG5CSh5XjPP7PTxzhlv9s/DbINaGRM5D/GrrSVcmDpP8gDMT57vwxACwa/xJxbDkCMMqP8ERkQQEMT9zwHHBFAPXEfPAX/FUBrCsNKvroXQA==\",\"dtype\":\"float64\",\"shape\":[11]},\"url\":[\"127.0.0.1:8000\",\"github.com\",\"kissanime.ru\",\"mail.google.com\",\"others\",\"stackoverflow.com\",\"twitter.com\",\"www.facebook.com\",\"www.google.com\",\"www.reddit.com\",\"www.youtube.com\"],\"values\":[1052,803,859,679,11982,861,983,1082,5227,1854,1501]}},\"id\":\"f4ee16b7-4e9b-4746-b7b5-809420c671ca\",\"type\":\"ColumnDataSource\"},{\"attributes\":{\"data_source\":{\"id\":\"f4ee16b7-4e9b-4746-b7b5-809420c671ca\",\"type\":\"ColumnDataSource\"},\"glyph\":{\"id\":\"941c4d60-0687-4208-bfb5-5206af8a7d6d\",\"type\":\"AnnularWedge\"},\"hover_glyph\":null,\"muted_glyph\":null},\"id\":\"fdd0a82a-e203-4b84-abd0-59fc6862a68a\",\"type\":\"GlyphRenderer\"},{\"attributes\":{\"plot\":{\"id\":\"883a7167-1889-4d90-ac19-1e4a10152ee8\",\"subtype\":\"Chart\",\"type\":\"Plot\"}},\"id\":\"1a8ad924-b22d-4714-84b9-5a6d492eb186\",\"type\":\"HelpTool\"},{\"attributes\":{\"active_drag\":\"auto\",\"active_scroll\":\"auto\",\"active_tap\":\"auto\",\"tools\":[{\"id\":\"269ebb47-23bf-4247-becc-3e8040dd9758\",\"type\":\"PanTool\"},{\"id\":\"1524788c-5fa7-4ea2-acf7-efb746cf0b24\",\"type\":\"WheelZoomTool\"},{\"id\":\"799d0f14-12a7-484b-8318-52ca9729f72f\",\"type\":\"BoxZoomTool\"},{\"id\":\"54bc6c7e-017d-422a-b582-491f1d414eed\",\"type\":\"SaveTool\"},{\"id\":\"2076a9a1-37c5-4f84-a2db-b8ddfc1a0dff\",\"type\":\"ResetTool\"},{\"id\":\"1a8ad924-b22d-4714-84b9-5a6d492eb186\",\"type\":\"HelpTool\"},{\"id\":\"bb417e70-d450-40d0-a98a-3765a2f3ad8f\",\"type\":\"HoverTool\"}]},\"id\":\"7b994bb3-7e1b-44b6-8434-f9b8424b1fd5\",\"type\":\"Toolbar\"},{\"attributes\":{\"end_angle\":{\"field\":\"end\",\"units\":\"rad\"},\"fill_alpha\":{\"value\":0.8},\"fill_color\":{\"field\":\"color\"},\"inner_radius\":{\"field\":\"inners\",\"units\":\"data\"},\"line_color\":{\"value\":\"White\"},\"outer_radius\":{\"field\":\"outers\",\"units\":\"data\"},\"start_angle\":{\"field\":\"start\",\"units\":\"rad\"},\"x\":{\"value\":0},\"y\":{\"value\":0}},\"id\":\"941c4d60-0687-4208-bfb5-5206af8a7d6d\",\"type\":\"AnnularWedge\"},{\"attributes\":{\"location\":\"top_left\",\"plot\":{\"id\":\"883a7167-1889-4d90-ac19-1e4a10152ee8\",\"subtype\":\"Chart\",\"type\":\"Plot\"}},\"id\":\"c4b0fc1c-ce79-49b6-af85-8cd5ce58dc39\",\"type\":\"Legend\"}],\"root_ids\":[\"883a7167-1889-4d90-ac19-1e4a10152ee8\"]},\"title\":\"Bokeh Application\",\"version\":\"0.12.5\"}};\n",
       "            var render_items = [{\"docid\":\"b7fb417e-212d-4986-ad8a-61bcbf60ffd9\",\"elementid\":\"1de4542f-68e6-405d-b886-419f7a70c403\",\"modelid\":\"883a7167-1889-4d90-ac19-1e4a10152ee8\"}];\n",
       "            \n",
       "            Bokeh.embed.embed_items(docs_json, render_items);\n",
       "          };\n",
       "          if (document.readyState != \"loading\") fn();\n",
       "          else document.addEventListener(\"DOMContentLoaded\", fn);\n",
       "        })();\n",
       "      },\n",
       "      function(Bokeh) {\n",
       "      }\n",
       "    ];\n",
       "  \n",
       "    function run_inline_js() {\n",
       "      \n",
       "      if ((window.Bokeh !== undefined) || (force === true)) {\n",
       "        for (var i = 0; i < inline_js.length; i++) {\n",
       "          inline_js[i](window.Bokeh);\n",
       "        }if (force === true) {\n",
       "          display_loaded();\n",
       "        }} else if (Date.now() < window._bokeh_timeout) {\n",
       "        setTimeout(run_inline_js, 100);\n",
       "      } else if (!window._bokeh_failed_load) {\n",
       "        console.log(\"Bokeh: BokehJS failed to load within specified timeout.\");\n",
       "        window._bokeh_failed_load = true;\n",
       "      } else if (force !== true) {\n",
       "        var cell = $(document.getElementById(\"1de4542f-68e6-405d-b886-419f7a70c403\")).parents('.cell').data().cell;\n",
       "        cell.output_area.append_execute_result(NB_LOAD_WARNING)\n",
       "      }\n",
       "  \n",
       "    }\n",
       "  \n",
       "    if (window._bokeh_is_loading === 0) {\n",
       "      console.log(\"Bokeh: BokehJS loaded, going straight to plotting\");\n",
       "      run_inline_js();\n",
       "    } else {\n",
       "      load_libs(js_urls, function() {\n",
       "        console.log(\"Bokeh: BokehJS plotting callback run at\", now());\n",
       "        run_inline_js();\n",
       "      });\n",
       "    }\n",
       "  }(this));\n",
       "</script>"
      ]
     },
     "metadata": {},
     "output_type": "execute_result"
    }
   ],
   "source": [
    "d = Donut(top_results, label='url', values='visit_count', plot_height=800, plot_width=800)\n",
    "show(d)"
   ]
  },
  {
   "cell_type": "code",
   "execution_count": null,
   "metadata": {
    "collapsed": true
   },
   "outputs": [],
   "source": [
    ""
   ]
  }
 ],
 "metadata": {
  "kernelspec": {
   "display_name": "Python 3",
   "language": "python",
   "name": "python3"
  },
  "language_info": {
   "codemirror_mode": {
    "name": "ipython",
    "version": 3.0
   },
   "file_extension": ".py",
   "mimetype": "text/x-python",
   "name": "python",
   "nbconvert_exporter": "python",
   "pygments_lexer": "ipython3",
   "version": "3.6.1"
  }
 },
 "nbformat": 4,
 "nbformat_minor": 0
}